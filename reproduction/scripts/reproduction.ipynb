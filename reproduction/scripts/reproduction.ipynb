{
 "cells": [
  {
   "cell_type": "markdown",
   "metadata": {},
   "source": [
    "# Reproduction"
   ]
  },
  {
   "cell_type": "markdown",
   "metadata": {},
   "source": [
    "## Set-up"
   ]
  },
  {
   "cell_type": "markdown",
   "metadata": {},
   "source": [
    "Import required packages"
   ]
  },
  {
   "cell_type": "code",
   "execution_count": 1,
   "metadata": {},
   "outputs": [],
   "source": [
    "# Import model\n",
    "import model\n",
    "\n",
    "# Data processing and figure generation\n",
    "import pandas as pd\n",
    "\n",
    "# Manage file paths\n",
    "from dataclasses import dataclass\n",
    "import os\n",
    "\n",
    "# Hide warnings that appear\n",
    "import warnings\n",
    "from pandas.core.common import SettingWithCopyWarning\n",
    "warnings.simplefilter(action='ignore', category=SettingWithCopyWarning)\n",
    "warnings.filterwarnings('ignore')\n",
    "\n",
    "# Import and start timer (used to record runtime of this notebook)\n",
    "import time\n",
    "start = time.time()"
   ]
  },
  {
   "cell_type": "markdown",
   "metadata": {},
   "source": [
    "Set file paths"
   ]
  },
  {
   "cell_type": "code",
   "execution_count": 2,
   "metadata": {},
   "outputs": [],
   "source": [
    "@dataclass(frozen=True)\n",
    "class Paths:\n",
    "    '''Singleton object for storing paths to data and database.'''\n",
    "\n",
    "    outputs = '../outputs'\n",
    "    model_output = 'model_output.csv'\n",
    "\n",
    "\n",
    "paths = Paths()"
   ]
  },
  {
   "cell_type": "markdown",
   "metadata": {},
   "source": [
    "## Run model"
   ]
  },
  {
   "cell_type": "code",
   "execution_count": 3,
   "metadata": {},
   "outputs": [
    {
     "name": "stdout",
     "output_type": "stream",
     "text": [
      "Finished simulation [1, 2, 14, 5]\n",
      "Finished simulation [2, 2, 14, 5]\n",
      "Finished simulation [3, 2, 14, 5]\n",
      "Finished simulation [1, 2, 7, 5]\n",
      "Finished simulation [2, 2, 7, 5]\n",
      "Finished simulation [3, 2, 7, 5]\n",
      "Finished simulation [1, 2, 14, 10]\n",
      "Finished simulation [2, 2, 14, 10]\n",
      "Finished simulation [3, 2, 14, 10]\n",
      "Finished simulation [1, 2, 3, 5]\n",
      "Finished simulation [2, 2, 3, 5]\n",
      "Finished simulation [3, 2, 3, 5]\n",
      "Finished simulation [1, 2, 7, 10]\n",
      "Finished simulation [2, 2, 7, 10]\n",
      "Finished simulation [3, 2, 7, 10]\n",
      "Finished simulation [1, 2, 21, 5]\n",
      "Finished simulation [2, 2, 21, 5]\n",
      "Finished simulation [3, 2, 21, 5]\n",
      "Finished simulation [1, 2, 3, 10]\n",
      "Finished simulation [2, 2, 3, 10]\n",
      "Finished simulation [3, 2, 3, 10]\n",
      "Finished simulation [1, 2, 14, 20]\n",
      "Finished simulation [2, 2, 14, 20]\n",
      "Finished simulation [3, 2, 14, 20]\n",
      "Finished simulation [1, 2, 21, 10]\n",
      "Finished simulation [2, 2, 21, 10]\n",
      "Finished simulation [3, 2, 21, 10]\n",
      "Finished simulation [1, 2, 1, 5]\n",
      "Finished simulation [2, 2, 1, 5]\n",
      "Finished simulation [3, 2, 1, 5]\n",
      "Finished simulation [1, 2, 1, 10]\n",
      "Finished simulation [2, 2, 1, 10]\n",
      "Finished simulation [3, 2, 1, 10]\n",
      "Finished simulation [1, 2, 3, 20]\n",
      "Finished simulation [2, 2, 3, 20]\n",
      "Finished simulation [3, 2, 3, 20]\n",
      "Finished simulation [1, 2, 7, 20]\n",
      "Finished simulation [2, 2, 7, 20]\n",
      "Finished simulation [3, 2, 7, 20]\n",
      "Finished simulation [1, 2, 1, 20]\n",
      "Finished simulation [2, 2, 1, 20]\n",
      "Finished simulation [3, 2, 1, 20]\n",
      "Finished simulation [1, 4, 3, 5]\n",
      "Finished simulation [1, 2, 14, 30]\n",
      "Finished simulation [2, 2, 14, 30]\n",
      "Finished simulation [3, 2, 14, 30]\n",
      "Finished simulation [1, 4, 1, 5]\n",
      "Finished simulation [1, 4, 3, 10]\n",
      "Finished simulation [1, 4, 7, 5]\n",
      "Finished simulation [1, 2, 3, 30]\n",
      "Finished simulation [2, 2, 3, 30]\n",
      "Finished simulation [3, 2, 3, 30]\n",
      "Finished simulation [1, 4, 1, 10]\n",
      "Finished simulation [1, 2, 21, 20]\n",
      "Finished simulation [2, 2, 21, 20]\n",
      "Finished simulation [3, 2, 21, 20]\n",
      "Finished simulation [1, 2, 7, 30]\n",
      "Finished simulation [2, 2, 7, 30]\n",
      "Finished simulation [3, 2, 7, 30]\n",
      "Finished simulation [1, 4, 7, 10]\n",
      "Finished simulation [1, 2, 1, 30]\n",
      "Finished simulation [2, 2, 1, 30]\n",
      "Finished simulation [3, 2, 1, 30]\n",
      "Finished simulation [1, 4, 1, 20]\n",
      "Finished simulation [1, 4, 14, 5]\n",
      "Finished simulation [1, 4, 3, 20]\n",
      "Finished simulation [1, 4, 14, 10]\n",
      "Finished simulation [1, 4, 7, 20]\n",
      "Finished simulation [1, 4, 1, 30]\n",
      "Finished simulation [1, 4, 14, 20]\n",
      "Finished simulation [1, 4, 21, 5]\n",
      "Finished simulation [1, 2, 21, 30]\n",
      "Finished simulation [2, 2, 21, 30]\n",
      "Finished simulation [3, 2, 21, 30]\n",
      "Finished simulation [1, 4, 3, 30]\n",
      "Finished simulation [2, 4, 3, 5]\n",
      "Finished simulation [1, 4, 21, 10]\n",
      "Finished simulation [2, 4, 7, 5]\n",
      "Finished simulation [1, 4, 7, 30]\n",
      "Finished simulation [2, 4, 1, 5]\n",
      "Finished simulation [2, 4, 14, 5]\n",
      "Finished simulation [1, 4, 14, 30]\n",
      "Finished simulation [2, 4, 3, 10]\n",
      "Finished simulation [2, 4, 7, 10]\n",
      "Finished simulation [2, 4, 14, 10]\n",
      "Finished simulation [2, 4, 1, 10]\n",
      "Finished simulation [1, 4, 21, 20]\n",
      "Finished simulation [2, 4, 21, 5]\n",
      "Finished simulation [3, 4, 3, 5]\n",
      "Finished simulation [3, 4, 7, 5]\n",
      "Finished simulation [3, 4, 14, 5]\n",
      "Finished simulation [2, 4, 3, 20]\n",
      "Finished simulation [2, 4, 21, 10]\n",
      "Finished simulation [2, 4, 1, 20]\n",
      "Finished simulation [2, 4, 14, 20]\n",
      "Finished simulation [2, 4, 7, 20]\n",
      "Finished simulation [3, 4, 1, 5]\n",
      "Finished simulation [1, 4, 21, 30]\n",
      "Finished simulation [1, 6, 1, 5]\n",
      "Finished simulation [3, 4, 14, 10]\n",
      "Finished simulation [1, 6, 1, 10]\n",
      "Finished simulation [3, 4, 3, 10]\n",
      "Finished simulation [3, 4, 7, 10]\n",
      "Finished simulation [1, 6, 1, 20]\n",
      "Finished simulation [3, 4, 21, 5]\n",
      "Finished simulation [1, 6, 3, 5]\n",
      "Finished simulation [3, 4, 1, 10]\n",
      "Finished simulation [1, 6, 3, 10]\n",
      "Finished simulation [2, 4, 14, 30]\n",
      "Finished simulation [1, 6, 1, 30]\n",
      "Finished simulation [2, 4, 7, 30]\n",
      "Finished simulation [2, 4, 1, 30]\n",
      "Finished simulation [2, 4, 3, 30]\n",
      "Finished simulation [1, 6, 3, 20]\n",
      "Finished simulation [2, 4, 21, 20]\n",
      "Finished simulation [1, 6, 7, 5]\n",
      "Finished simulation [2, 6, 1, 5]\n",
      "Finished simulation [3, 4, 21, 10]\n",
      "Finished simulation [2, 6, 1, 10]\n",
      "Finished simulation [2, 6, 3, 5]\n",
      "Finished simulation [1, 6, 3, 30]\n",
      "Finished simulation [3, 4, 14, 20]\n",
      "Finished simulation [2, 6, 3, 10]\n",
      "Finished simulation [1, 6, 7, 10]\n",
      "Finished simulation [2, 6, 7, 5]\n",
      "Finished simulation [3, 4, 3, 20]\n",
      "Finished simulation [3, 4, 7, 20]\n",
      "Finished simulation [2, 6, 1, 20]\n",
      "Finished simulation [3, 4, 1, 20]\n",
      "Finished simulation [3, 6, 1, 5]\n",
      "Finished simulation [1, 6, 14, 5]\n",
      "Finished simulation [1, 6, 7, 20]\n",
      "Finished simulation [3, 6, 3, 5]\n",
      "Finished simulation [2, 6, 3, 20]\n",
      "Finished simulation [1, 6, 14, 10]\n",
      "Finished simulation [2, 6, 7, 10]\n",
      "Finished simulation [2, 4, 21, 30]\n",
      "Finished simulation [2, 6, 1, 30]\n",
      "Finished simulation [3, 6, 1, 10]\n",
      "Finished simulation [3, 6, 7, 5]\n",
      "Finished simulation [1, 6, 14, 20]\n",
      "Finished simulation [1, 6, 7, 30]\n",
      "Finished simulation [2, 6, 14, 5]\n",
      "Finished simulation [3, 6, 3, 10]\n",
      "Finished simulation [3, 4, 14, 30]\n",
      "Finished simulation [3, 4, 21, 20]\n",
      "Finished simulation [1, 6, 21, 5]\n",
      "Finished simulation [1, 6, 14, 30]\n",
      "Finished simulation [2, 6, 14, 10]\n",
      "Finished simulation [1, 6, 21, 10]\n",
      "Finished simulation [3, 4, 7, 30]\n",
      "Finished simulation [2, 6, 3, 30]\n",
      "Finished simulation [2, 6, 7, 20]\n",
      "Finished simulation [3, 6, 7, 10]\n",
      "Finished simulation [3, 6, 14, 5]\n",
      "Finished simulation [3, 6, 1, 20]\n",
      "Finished simulation [3, 4, 3, 30]\n",
      "Finished simulation [1, 6, 21, 20]\n",
      "Finished simulation [2, 6, 21, 5]\n",
      "Finished simulation [3, 4, 1, 30]\n",
      "Finished simulation [2, 6, 14, 20]\n",
      "Finished simulation [2, 6, 21, 10]\n",
      "Finished simulation [3, 6, 3, 20]\n",
      "Finished simulation [3, 6, 14, 10]\n",
      "Finished simulation [2, 6, 7, 30]\n",
      "Finished simulation [1, 6, 21, 30]\n",
      "Finished simulation [3, 6, 21, 5]\n",
      "Finished simulation [3, 4, 21, 30]\n",
      "Finished simulation [2, 6, 14, 30]\n",
      "Finished simulation [3, 6, 1, 30]\n",
      "Finished simulation [2, 6, 21, 20]\n",
      "Finished simulation [3, 6, 14, 20]\n",
      "Finished simulation [3, 6, 21, 10]\n",
      "Finished simulation [3, 6, 7, 20]\n",
      "Finished simulation [3, 6, 3, 30]\n",
      "Finished simulation [2, 6, 21, 30]\n",
      "Finished simulation [3, 6, 7, 30]\n",
      "Finished simulation [3, 6, 21, 20]\n",
      "Finished simulation [3, 6, 14, 30]\n",
      "Finished simulation [3, 6, 21, 30]\n"
     ]
    }
   ],
   "source": [
    "res = model.run_scenarios()"
   ]
  },
  {
   "cell_type": "markdown",
   "metadata": {},
   "source": [
    "## Save results to csv"
   ]
  },
  {
   "cell_type": "code",
   "execution_count": 4,
   "metadata": {},
   "outputs": [],
   "source": [
    "res.to_csv(os.path.join(paths.outputs, paths.model_output), index=False)"
   ]
  },
  {
   "cell_type": "markdown",
   "metadata": {},
   "source": [
    "## Time elapsed"
   ]
  },
  {
   "cell_type": "code",
   "execution_count": 5,
   "metadata": {},
   "outputs": [
    {
     "name": "stdout",
     "output_type": "stream",
     "text": [
      "Notebook run time: 6m 58s\n"
     ]
    }
   ],
   "source": [
    "# Find run time in seconds\n",
    "end = time.time()\n",
    "runtime = round(end-start)\n",
    "\n",
    "# Display converted to minutes and seconds\n",
    "print(f'Notebook run time: {runtime//60}m {runtime%60}s')"
   ]
  }
 ],
 "metadata": {
  "kernelspec": {
   "display_name": "lim2020",
   "language": "python",
   "name": "python3"
  },
  "language_info": {
   "codemirror_mode": {
    "name": "ipython",
    "version": 3
   },
   "file_extension": ".py",
   "mimetype": "text/x-python",
   "name": "python",
   "nbconvert_exporter": "python",
   "pygments_lexer": "ipython3",
   "version": "3.8.5"
  }
 },
 "nbformat": 4,
 "nbformat_minor": 2
}
